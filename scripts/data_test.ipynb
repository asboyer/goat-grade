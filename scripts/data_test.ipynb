{
 "cells": [
  {
   "cell_type": "code",
   "execution_count": 5,
   "metadata": {},
   "outputs": [
    {
     "name": "stdout",
     "output_type": "stream",
     "text": [
      "{'Player': 'Kevin Durant', 'Pos': 'PF', 'Age': '32', 'Tm': 'BRK', 'G': '19', 'GS': '18', 'MP': '35.7', 'FG': '9.9', 'FGA': '18.9', 'FG%': '.524', '3P': '2.6', '3PA': '5.9', '3P%': '.434', '2P': '7.3', '2PA': '12.9', '2P%': '.565', 'eFG%': '.592', 'FT': '6.6', 'FTA': '7.6', 'FT%': '.869', 'ORB': '0.4', 'DRB': '6.9', 'TRB': '7.3', 'AST': '5.3', 'STL': '0.7', 'BLK': '1.4', 'TOV': '3.5', 'PF': '2.3', 'PTS': '29.0'}\n"
     ]
    }
   ],
   "source": [
    "import json\n",
    "\n",
    "with open('../stats/stats.json', 'r', encoding='utf8') as file:\n",
    "    stats = json.load(file)\n",
    "    print(stats[\"Kevin Durant\"])"
   ]
  },
  {
   "cell_type": "code",
   "execution_count": null,
   "metadata": {},
   "outputs": [],
   "source": []
  },
  {
   "cell_type": "code",
   "execution_count": null,
   "metadata": {},
   "outputs": [],
   "source": []
  },
  {
   "cell_type": "code",
   "execution_count": 1,
   "metadata": {},
   "outputs": [
    {
     "name": "stdout",
     "output_type": "stream",
     "text": [
      "test\n"
     ]
    }
   ],
   "source": [
    "print('test')"
   ]
  },
  {
   "cell_type": "code",
   "execution_count": null,
   "metadata": {},
   "outputs": [],
   "source": []
  }
 ],
 "metadata": {
  "kernelspec": {
   "display_name": "Python 3",
   "language": "python",
   "name": "python3"
  },
  "language_info": {
   "codemirror_mode": {
    "name": "ipython",
    "version": 3
   },
   "file_extension": ".py",
   "mimetype": "text/x-python",
   "name": "python",
   "nbconvert_exporter": "python",
   "pygments_lexer": "ipython3",
   "version": "3.8.5"
  }
 },
 "nbformat": 4,
 "nbformat_minor": 4
}
